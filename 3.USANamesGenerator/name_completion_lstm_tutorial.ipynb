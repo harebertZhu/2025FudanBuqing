{
 "cells": [
  {
   "cell_type": "markdown",
   "id": "025c5580",
   "metadata": {},
   "source": [
    "# 姓名生成模型训练 (LSTM + PyTorch)\n",
    "本项目通过读取人名数据，使用字符级 LSTM 模型学习名字的生成结构，并实现自动补全功能。"
   ]
  },
  {
   "cell_type": "code",
   "execution_count": 5,
   "id": "0dadbf20",
   "metadata": {},
   "outputs": [],
   "source": [
    "# ✅ 1. 导入依赖\n",
    "import pandas as pd\n",
    "import numpy as np\n",
    "import torch\n",
    "import torch.nn as nn\n",
    "import torch.optim as optim\n",
    "from torch.utils.data import TensorDataset, DataLoader\n",
    "from tqdm import tqdm\n",
    "import matplotlib.pyplot as plt\n",
    "import os\n"
   ]
  },
  {
   "cell_type": "markdown",
   "id": "87e9c3ff",
   "metadata": {},
   "source": [
    "## 📂 2. 读取并预处理姓名数据"
   ]
  },
  {
   "cell_type": "code",
   "execution_count": 6,
   "id": "3209e45c",
   "metadata": {},
   "outputs": [
    {
     "name": "stdout",
     "output_type": "stream",
     "text": [
      "        Name Gender  Count   SourceFile\n",
      "0       Mary      F   7065  yob1880.txt\n",
      "1       Anna      F   2604  yob1880.txt\n",
      "2       Emma      F   2003  yob1880.txt\n",
      "3  Elizabeth      F   1939  yob1880.txt\n",
      "4     Minnie      F   1746  yob1880.txt\n",
      "['a', 'b', 'c', 'd', 'e', 'f', 'g', 'h', 'i', 'j', 'k', 'l', 'm', 'n', 'o', 'p', 'q', 'r', 's', 't', 'u', 'v', 'w', 'x', 'y', 'z'] 26\n"
     ]
    }
   ],
   "source": [
    "# ... existing code ...\n",
    "\n",
    "# 读取CSV文件\n",
    "file_path = './all_names_combined.csv'  # 指定数据文件路径\n",
    "df = pd.read_csv(file_path)  # 使用pandas读取CSV文件\n",
    "print(df.head())  # 打印数据前5行，用于检查数据格式\n",
    "\n",
    "# 处理姓名列，统一转为小写\n",
    "names = df['Name'].unique()  # 获取姓名列的唯一值，去除重复\n",
    "# 对每个姓名进行处理：\n",
    "# 1. strip()去除首尾空格\n",
    "# 2. lower()转换为小写\n",
    "# 3. 只保留字符串类型的姓名\n",
    "names = [name.strip().lower() for name in names if isinstance(name, str)]\n",
    "\n",
    "# 构建字符集\n",
    "all_text = ''.join(names)  # 将所有姓名连接成一个长字符串\n",
    "chars = sorted(set(all_text))  # 获取所有不重复的字符并排序\n",
    "# 创建字符到索引的映射字典\n",
    "char_to_idx = {ch: idx for idx, ch in enumerate(chars)}\n",
    "# 创建索引到字符的映射字典\n",
    "idx_to_char = {idx: ch for ch, idx in char_to_idx.items()}\n",
    "print(chars, len(chars))  # 打印字符集及其大小\n",
    "\n",
    "# ... existing code ..."
   ]
  },
  {
   "cell_type": "markdown",
   "id": "bfc27537",
   "metadata": {},
   "source": [
    "## 🧩 3. 构造训练数据（序列输入 ➜ 下一个字符预测）"
   ]
  },
  {
   "cell_type": "code",
   "execution_count": 7,
   "id": "b8489021",
   "metadata": {},
   "outputs": [
    {
     "name": "stdout",
     "output_type": "stream",
     "text": [
      "(577963, 10) (577963,)\n"
     ]
    }
   ],
   "source": [
    "# 该段代码用于构建训练数据，将每个名字分解成多个序列样本\n",
    "# 对于每个名字，我们取前n个字符作为输入序列，第n+1个字符作为预测目标\n",
    "# 例如：对于名字\"john\"，会生成以下训练样本：\n",
    "# 输入序列 -> 目标字符\n",
    "# \"j\" -> \"o\"\n",
    "# \"jo\" -> \"h\"\n",
    "# \"joh\" -> \"n\"\n",
    "\n",
    "# 设置最大序列长度为10\n",
    "max_seq_len = 10\n",
    "sequences, next_chars = [], []\n",
    "\n",
    "# 遍历所有名字，生成训练序列\n",
    "for name in names:\n",
    "    for i in range(1, len(name)):\n",
    "        seq = name[:i]  # 取名字的前i个字符作为输入序列\n",
    "        next_char = name[i]  # 取第i+1个字符作为预测目标\n",
    "        if len(seq) <= max_seq_len:  # 只保留长度不超过max_seq_len的序列\n",
    "            sequences.append(seq)\n",
    "            next_chars.append(next_char)\n",
    "\n",
    "# 创建输入特征矩阵X和标签向量y\n",
    "X = np.zeros((len(sequences), max_seq_len), dtype=np.int32)  # 初始化输入矩阵，用0填充\n",
    "y = np.zeros(len(sequences), dtype=np.int32)  # 初始化标签向量\n",
    "\n",
    "# 将字符序列转换为数字索引\n",
    "for i, seq in enumerate(sequences):\n",
    "    # 将序列填充到max_seq_len长度，短序列从右侧开始填充\n",
    "    for t, char in enumerate(seq):\n",
    "        X[i, max_seq_len - len(seq) + t] = char_to_idx[char]\n",
    "    # 将目标字符转换为对应的索引\n",
    "    y[i] = char_to_idx[next_chars[i]]\n",
    "\n",
    "print(X.shape, y.shape)  # 打印数据形状，用于检查"
   ]
  },
  {
   "cell_type": "markdown",
   "id": "040db3b8",
   "metadata": {},
   "source": [
    "## 🧠 4. 定义 LSTM 模型结构\n",
    "这段代码实现了一个用于姓名生成的LSTM模型。模型的主要特点是：<br>\n",
    "使用字符级别的嵌入层，将每个字符转换为32维的向量表示<br>\n",
    "使用LSTM层处理序列信息，隐藏层维度为128<br>\n",
    "最后通过全连接层输出下一个字符的概率分布<br>\n",
    "模型采用批处理方式（batch_first=True），便于处理多个样本<br>"
   ]
  },
  {
   "cell_type": "code",
   "execution_count": 11,
   "id": "dda828f1",
   "metadata": {},
   "outputs": [
    {
     "name": "stdout",
     "output_type": "stream",
     "text": [
      "NamePredictor(\n",
      "  (embedding): Embedding(26, 32)\n",
      "  (lstm): LSTM(32, 128, batch_first=True)\n",
      "  (dropout): Dropout(p=0.2, inplace=False)\n",
      "  (fc): Linear(in_features=128, out_features=26, bias=True)\n",
      ")\n"
     ]
    }
   ],
   "source": [
    "# 这段代码定义了一个基于LSTM的姓名预测模型\n",
    "# 模型结构：字符嵌入层 -> LSTM层 -> 全连接层\n",
    "# 输入：字符序列，输出：下一个字符的概率分布\n",
    "\n",
    "class NamePredictor(nn.Module):\n",
    "    def __init__(self, vocab_size, embedding_dim, hidden_dim, dropout=0.2):\n",
    "        super(NamePredictor, self).__init__()\n",
    "        # 字符嵌入层：将每个字符转换为embedding_dim维的向量表示\n",
    "        self.embedding = nn.Embedding(vocab_size, embedding_dim)\n",
    "        # LSTM层：处理序列信息，hidden_dim为隐藏状态维度\n",
    "        self.lstm = nn.LSTM(embedding_dim, hidden_dim, batch_first=True)\n",
    "        # Dropout层：防止过拟合，默认丢弃率为0.2\n",
    "        self.dropout = nn.Dropout(dropout)\n",
    "        # 全连接层：将LSTM的输出映射到词汇表大小的概率分布\n",
    "        self.fc = nn.Linear(hidden_dim, vocab_size)\n",
    "    \n",
    "    def forward(self, x):\n",
    "        # 1. 字符嵌入：将输入序列转换为向量表示\n",
    "        embedded = self.embedding(x)\n",
    "        # 2. LSTM处理：获取序列的隐藏状态\n",
    "        _, (h_n, _) = self.lstm(embedded)\n",
    "        # 3. 应用dropout并去除多余的维度\n",
    "        h_n = self.dropout(h_n.squeeze(0))\n",
    "        # 4. 通过全连接层得到最终输出\n",
    "        output = self.fc(h_n)\n",
    "        return output\n",
    "\n",
    "# 创建模型实例\n",
    "vocab_size = len(char_to_idx)  # 词汇表大小（字符集大小）\n",
    "model = NamePredictor(vocab_size, embedding_dim=32, hidden_dim=128)  # 创建模型实例\n",
    "print(model)  # 打印模型结构"
   ]
  },
  {
   "cell_type": "markdown",
   "id": "bf7cd936",
   "metadata": {},
   "source": [
    "## 🏋️‍♂️ 5. 模型训练（保存最优模型 + 显示进度）"
   ]
  },
  {
   "cell_type": "code",
   "execution_count": 13,
   "id": "710b616b",
   "metadata": {},
   "outputs": [
    {
     "name": "stderr",
     "output_type": "stream",
     "text": [
      "Epoch 1/50: 100%|██████████| 1129/1129 [00:08<00:00, 129.51it/s, BatchLoss=2.0775]\n"
     ]
    },
    {
     "name": "stdout",
     "output_type": "stream",
     "text": [
      "✅ Model saved. New best loss: 2.164813\n",
      "Epoch 1, Avg Loss: 2.164813\n"
     ]
    },
    {
     "name": "stderr",
     "output_type": "stream",
     "text": [
      "Epoch 2/50: 100%|██████████| 1129/1129 [00:07<00:00, 148.05it/s, BatchLoss=2.0683]\n"
     ]
    },
    {
     "name": "stdout",
     "output_type": "stream",
     "text": [
      "✅ Model saved. New best loss: 2.055773\n",
      "Epoch 2, Avg Loss: 2.055773\n"
     ]
    },
    {
     "name": "stderr",
     "output_type": "stream",
     "text": [
      "Epoch 3/50: 100%|██████████| 1129/1129 [00:07<00:00, 147.58it/s, BatchLoss=2.0683]\n"
     ]
    },
    {
     "name": "stdout",
     "output_type": "stream",
     "text": [
      "✅ Model saved. New best loss: 2.022362\n",
      "Epoch 3, Avg Loss: 2.022362\n"
     ]
    },
    {
     "name": "stderr",
     "output_type": "stream",
     "text": [
      "Epoch 4/50: 100%|██████████| 1129/1129 [00:07<00:00, 145.30it/s, BatchLoss=2.0833]\n"
     ]
    },
    {
     "name": "stdout",
     "output_type": "stream",
     "text": [
      "✅ Model saved. New best loss: 2.003840\n",
      "Epoch 4, Avg Loss: 2.003840\n"
     ]
    },
    {
     "name": "stderr",
     "output_type": "stream",
     "text": [
      "Epoch 5/50: 100%|██████████| 1129/1129 [00:07<00:00, 143.87it/s, BatchLoss=1.9159]\n"
     ]
    },
    {
     "name": "stdout",
     "output_type": "stream",
     "text": [
      "✅ Model saved. New best loss: 1.990924\n",
      "Epoch 5, Avg Loss: 1.990924\n"
     ]
    },
    {
     "name": "stderr",
     "output_type": "stream",
     "text": [
      "Epoch 6/50: 100%|██████████| 1129/1129 [00:07<00:00, 149.72it/s, BatchLoss=1.9681]\n"
     ]
    },
    {
     "name": "stdout",
     "output_type": "stream",
     "text": [
      "✅ Model saved. New best loss: 1.980656\n",
      "Epoch 6, Avg Loss: 1.980656\n"
     ]
    },
    {
     "name": "stderr",
     "output_type": "stream",
     "text": [
      "Epoch 7/50: 100%|██████████| 1129/1129 [00:07<00:00, 144.27it/s, BatchLoss=2.0705]\n"
     ]
    },
    {
     "name": "stdout",
     "output_type": "stream",
     "text": [
      "✅ Model saved. New best loss: 1.972777\n",
      "Epoch 7, Avg Loss: 1.972777\n"
     ]
    },
    {
     "name": "stderr",
     "output_type": "stream",
     "text": [
      "Epoch 8/50: 100%|██████████| 1129/1129 [00:08<00:00, 139.68it/s, BatchLoss=1.9562]\n"
     ]
    },
    {
     "name": "stdout",
     "output_type": "stream",
     "text": [
      "✅ Model saved. New best loss: 1.966615\n",
      "Epoch 8, Avg Loss: 1.966615\n"
     ]
    },
    {
     "name": "stderr",
     "output_type": "stream",
     "text": [
      "Epoch 9/50: 100%|██████████| 1129/1129 [00:08<00:00, 139.03it/s, BatchLoss=2.1055]\n"
     ]
    },
    {
     "name": "stdout",
     "output_type": "stream",
     "text": [
      "✅ Model saved. New best loss: 1.962415\n",
      "Epoch 9, Avg Loss: 1.962415\n"
     ]
    },
    {
     "name": "stderr",
     "output_type": "stream",
     "text": [
      "Epoch 10/50: 100%|██████████| 1129/1129 [00:08<00:00, 131.68it/s, BatchLoss=1.8987]\n"
     ]
    },
    {
     "name": "stdout",
     "output_type": "stream",
     "text": [
      "✅ Model saved. New best loss: 1.957564\n",
      "Epoch 10, Avg Loss: 1.957564\n"
     ]
    },
    {
     "name": "stderr",
     "output_type": "stream",
     "text": [
      "Epoch 11/50: 100%|██████████| 1129/1129 [00:07<00:00, 141.99it/s, BatchLoss=2.0759]\n"
     ]
    },
    {
     "name": "stdout",
     "output_type": "stream",
     "text": [
      "✅ Model saved. New best loss: 1.954346\n",
      "Epoch 11, Avg Loss: 1.954346\n"
     ]
    },
    {
     "name": "stderr",
     "output_type": "stream",
     "text": [
      "Epoch 12/50: 100%|██████████| 1129/1129 [00:07<00:00, 144.53it/s, BatchLoss=1.9472]\n"
     ]
    },
    {
     "name": "stdout",
     "output_type": "stream",
     "text": [
      "✅ Model saved. New best loss: 1.951254\n",
      "Epoch 12, Avg Loss: 1.951254\n"
     ]
    },
    {
     "name": "stderr",
     "output_type": "stream",
     "text": [
      "Epoch 13/50: 100%|██████████| 1129/1129 [00:08<00:00, 139.68it/s, BatchLoss=1.8920]\n"
     ]
    },
    {
     "name": "stdout",
     "output_type": "stream",
     "text": [
      "✅ Model saved. New best loss: 1.947706\n",
      "Epoch 13, Avg Loss: 1.947706\n"
     ]
    },
    {
     "name": "stderr",
     "output_type": "stream",
     "text": [
      "Epoch 14/50: 100%|██████████| 1129/1129 [00:08<00:00, 140.48it/s, BatchLoss=1.9720]\n"
     ]
    },
    {
     "name": "stdout",
     "output_type": "stream",
     "text": [
      "✅ Model saved. New best loss: 1.946375\n",
      "Epoch 14, Avg Loss: 1.946375\n"
     ]
    },
    {
     "name": "stderr",
     "output_type": "stream",
     "text": [
      "Epoch 15/50: 100%|██████████| 1129/1129 [00:07<00:00, 148.50it/s, BatchLoss=1.9431]\n"
     ]
    },
    {
     "name": "stdout",
     "output_type": "stream",
     "text": [
      "✅ Model saved. New best loss: 1.943972\n",
      "Epoch 15, Avg Loss: 1.943972\n"
     ]
    },
    {
     "name": "stderr",
     "output_type": "stream",
     "text": [
      "Epoch 16/50: 100%|██████████| 1129/1129 [00:07<00:00, 144.40it/s, BatchLoss=2.0008]\n"
     ]
    },
    {
     "name": "stdout",
     "output_type": "stream",
     "text": [
      "✅ Model saved. New best loss: 1.941850\n",
      "Epoch 16, Avg Loss: 1.941850\n"
     ]
    },
    {
     "name": "stderr",
     "output_type": "stream",
     "text": [
      "Epoch 17/50: 100%|██████████| 1129/1129 [00:08<00:00, 135.69it/s, BatchLoss=1.9576]\n"
     ]
    },
    {
     "name": "stdout",
     "output_type": "stream",
     "text": [
      "✅ Model saved. New best loss: 1.940360\n",
      "Epoch 17, Avg Loss: 1.940360\n"
     ]
    },
    {
     "name": "stderr",
     "output_type": "stream",
     "text": [
      "Epoch 18/50: 100%|██████████| 1129/1129 [00:07<00:00, 146.07it/s, BatchLoss=1.9414]\n"
     ]
    },
    {
     "name": "stdout",
     "output_type": "stream",
     "text": [
      "✅ Model saved. New best loss: 1.938169\n",
      "Epoch 18, Avg Loss: 1.938169\n"
     ]
    },
    {
     "name": "stderr",
     "output_type": "stream",
     "text": [
      "Epoch 19/50: 100%|██████████| 1129/1129 [00:07<00:00, 143.19it/s, BatchLoss=1.9601]\n"
     ]
    },
    {
     "name": "stdout",
     "output_type": "stream",
     "text": [
      "✅ Model saved. New best loss: 1.936895\n",
      "Epoch 19, Avg Loss: 1.936895\n"
     ]
    },
    {
     "name": "stderr",
     "output_type": "stream",
     "text": [
      "Epoch 20/50: 100%|██████████| 1129/1129 [00:07<00:00, 144.69it/s, BatchLoss=2.0036]\n"
     ]
    },
    {
     "name": "stdout",
     "output_type": "stream",
     "text": [
      "✅ Model saved. New best loss: 1.935749\n",
      "Epoch 20, Avg Loss: 1.935749\n"
     ]
    },
    {
     "name": "stderr",
     "output_type": "stream",
     "text": [
      "Epoch 21/50: 100%|██████████| 1129/1129 [00:07<00:00, 143.71it/s, BatchLoss=1.9218]\n"
     ]
    },
    {
     "name": "stdout",
     "output_type": "stream",
     "text": [
      "✅ Model saved. New best loss: 1.933950\n",
      "Epoch 21, Avg Loss: 1.933950\n"
     ]
    },
    {
     "name": "stderr",
     "output_type": "stream",
     "text": [
      "Epoch 22/50: 100%|██████████| 1129/1129 [00:07<00:00, 143.66it/s, BatchLoss=1.8569]\n"
     ]
    },
    {
     "name": "stdout",
     "output_type": "stream",
     "text": [
      "✅ Model saved. New best loss: 1.933396\n",
      "Epoch 22, Avg Loss: 1.933396\n"
     ]
    },
    {
     "name": "stderr",
     "output_type": "stream",
     "text": [
      "Epoch 23/50: 100%|██████████| 1129/1129 [00:07<00:00, 146.04it/s, BatchLoss=1.9921]\n"
     ]
    },
    {
     "name": "stdout",
     "output_type": "stream",
     "text": [
      "✅ Model saved. New best loss: 1.932187\n",
      "Epoch 23, Avg Loss: 1.932187\n"
     ]
    },
    {
     "name": "stderr",
     "output_type": "stream",
     "text": [
      "Epoch 24/50: 100%|██████████| 1129/1129 [00:07<00:00, 145.79it/s, BatchLoss=1.9284]\n"
     ]
    },
    {
     "name": "stdout",
     "output_type": "stream",
     "text": [
      "✅ Model saved. New best loss: 1.931886\n",
      "Epoch 24, Avg Loss: 1.931886\n"
     ]
    },
    {
     "name": "stderr",
     "output_type": "stream",
     "text": [
      "Epoch 25/50: 100%|██████████| 1129/1129 [00:08<00:00, 130.42it/s, BatchLoss=1.8818]\n"
     ]
    },
    {
     "name": "stdout",
     "output_type": "stream",
     "text": [
      "✅ Model saved. New best loss: 1.930535\n",
      "Epoch 25, Avg Loss: 1.930535\n"
     ]
    },
    {
     "name": "stderr",
     "output_type": "stream",
     "text": [
      "Epoch 26/50: 100%|██████████| 1129/1129 [00:07<00:00, 147.63it/s, BatchLoss=1.8401]\n"
     ]
    },
    {
     "name": "stdout",
     "output_type": "stream",
     "text": [
      "Epoch 26, Avg Loss: 1.930715\n"
     ]
    },
    {
     "name": "stderr",
     "output_type": "stream",
     "text": [
      "Epoch 27/50: 100%|██████████| 1129/1129 [00:08<00:00, 140.45it/s, BatchLoss=2.1231]\n"
     ]
    },
    {
     "name": "stdout",
     "output_type": "stream",
     "text": [
      "✅ Model saved. New best loss: 1.929486\n",
      "Epoch 27, Avg Loss: 1.929486\n"
     ]
    },
    {
     "name": "stderr",
     "output_type": "stream",
     "text": [
      "Epoch 28/50: 100%|██████████| 1129/1129 [00:07<00:00, 141.37it/s, BatchLoss=1.9969]\n"
     ]
    },
    {
     "name": "stdout",
     "output_type": "stream",
     "text": [
      "✅ Model saved. New best loss: 1.929291\n",
      "Epoch 28, Avg Loss: 1.929291\n"
     ]
    },
    {
     "name": "stderr",
     "output_type": "stream",
     "text": [
      "Epoch 29/50: 100%|██████████| 1129/1129 [00:08<00:00, 140.74it/s, BatchLoss=1.9115]\n"
     ]
    },
    {
     "name": "stdout",
     "output_type": "stream",
     "text": [
      "✅ Model saved. New best loss: 1.928422\n",
      "Epoch 29, Avg Loss: 1.928422\n"
     ]
    },
    {
     "name": "stderr",
     "output_type": "stream",
     "text": [
      "Epoch 30/50: 100%|██████████| 1129/1129 [00:07<00:00, 146.94it/s, BatchLoss=2.0130]\n"
     ]
    },
    {
     "name": "stdout",
     "output_type": "stream",
     "text": [
      "✅ Model saved. New best loss: 1.927696\n",
      "Epoch 30, Avg Loss: 1.927696\n"
     ]
    },
    {
     "name": "stderr",
     "output_type": "stream",
     "text": [
      "Epoch 31/50: 100%|██████████| 1129/1129 [00:08<00:00, 135.24it/s, BatchLoss=1.8099]\n"
     ]
    },
    {
     "name": "stdout",
     "output_type": "stream",
     "text": [
      "Epoch 31, Avg Loss: 1.927784\n"
     ]
    },
    {
     "name": "stderr",
     "output_type": "stream",
     "text": [
      "Epoch 32/50: 100%|██████████| 1129/1129 [00:07<00:00, 143.31it/s, BatchLoss=1.8688]\n"
     ]
    },
    {
     "name": "stdout",
     "output_type": "stream",
     "text": [
      "✅ Model saved. New best loss: 1.927231\n",
      "Epoch 32, Avg Loss: 1.927231\n"
     ]
    },
    {
     "name": "stderr",
     "output_type": "stream",
     "text": [
      "Epoch 33/50: 100%|██████████| 1129/1129 [00:08<00:00, 136.49it/s, BatchLoss=1.8597]\n"
     ]
    },
    {
     "name": "stdout",
     "output_type": "stream",
     "text": [
      "✅ Model saved. New best loss: 1.927073\n",
      "Epoch 33, Avg Loss: 1.927073\n"
     ]
    },
    {
     "name": "stderr",
     "output_type": "stream",
     "text": [
      "Epoch 34/50: 100%|██████████| 1129/1129 [00:08<00:00, 140.02it/s, BatchLoss=1.8989]\n"
     ]
    },
    {
     "name": "stdout",
     "output_type": "stream",
     "text": [
      "✅ Model saved. New best loss: 1.926042\n",
      "Epoch 34, Avg Loss: 1.926042\n"
     ]
    },
    {
     "name": "stderr",
     "output_type": "stream",
     "text": [
      "Epoch 35/50: 100%|██████████| 1129/1129 [00:07<00:00, 147.32it/s, BatchLoss=1.9489]\n"
     ]
    },
    {
     "name": "stdout",
     "output_type": "stream",
     "text": [
      "✅ Model saved. New best loss: 1.925438\n",
      "Epoch 35, Avg Loss: 1.925438\n"
     ]
    },
    {
     "name": "stderr",
     "output_type": "stream",
     "text": [
      "Epoch 36/50: 100%|██████████| 1129/1129 [00:08<00:00, 128.32it/s, BatchLoss=1.9831]\n"
     ]
    },
    {
     "name": "stdout",
     "output_type": "stream",
     "text": [
      "Epoch 36, Avg Loss: 1.925875\n"
     ]
    },
    {
     "name": "stderr",
     "output_type": "stream",
     "text": [
      "Epoch 37/50: 100%|██████████| 1129/1129 [00:09<00:00, 116.35it/s, BatchLoss=1.9587]\n"
     ]
    },
    {
     "name": "stdout",
     "output_type": "stream",
     "text": [
      "Epoch 37, Avg Loss: 1.925836\n"
     ]
    },
    {
     "name": "stderr",
     "output_type": "stream",
     "text": [
      "Epoch 38/50: 100%|██████████| 1129/1129 [00:08<00:00, 129.73it/s, BatchLoss=1.8986]\n"
     ]
    },
    {
     "name": "stdout",
     "output_type": "stream",
     "text": [
      "Epoch 38, Avg Loss: 1.925968\n"
     ]
    },
    {
     "name": "stderr",
     "output_type": "stream",
     "text": [
      "Epoch 39/50: 100%|██████████| 1129/1129 [00:08<00:00, 129.99it/s, BatchLoss=1.8895]\n"
     ]
    },
    {
     "name": "stdout",
     "output_type": "stream",
     "text": [
      "✅ Model saved. New best loss: 1.925222\n",
      "Epoch 39, Avg Loss: 1.925222\n"
     ]
    },
    {
     "name": "stderr",
     "output_type": "stream",
     "text": [
      "Epoch 40/50: 100%|██████████| 1129/1129 [00:08<00:00, 127.79it/s, BatchLoss=1.9508]\n"
     ]
    },
    {
     "name": "stdout",
     "output_type": "stream",
     "text": [
      "✅ Model saved. New best loss: 1.924644\n",
      "Epoch 40, Avg Loss: 1.924644\n"
     ]
    },
    {
     "name": "stderr",
     "output_type": "stream",
     "text": [
      "Epoch 41/50: 100%|██████████| 1129/1129 [00:08<00:00, 133.13it/s, BatchLoss=1.9912]\n"
     ]
    },
    {
     "name": "stdout",
     "output_type": "stream",
     "text": [
      "Epoch 41, Avg Loss: 1.924895\n"
     ]
    },
    {
     "name": "stderr",
     "output_type": "stream",
     "text": [
      "Epoch 42/50: 100%|██████████| 1129/1129 [00:08<00:00, 139.71it/s, BatchLoss=2.0160]\n"
     ]
    },
    {
     "name": "stdout",
     "output_type": "stream",
     "text": [
      "✅ Model saved. New best loss: 1.924554\n",
      "Epoch 42, Avg Loss: 1.924554\n"
     ]
    },
    {
     "name": "stderr",
     "output_type": "stream",
     "text": [
      "Epoch 43/50: 100%|██████████| 1129/1129 [00:08<00:00, 133.19it/s, BatchLoss=1.8518]\n"
     ]
    },
    {
     "name": "stdout",
     "output_type": "stream",
     "text": [
      "✅ Model saved. New best loss: 1.924542\n",
      "Epoch 43, Avg Loss: 1.924542\n"
     ]
    },
    {
     "name": "stderr",
     "output_type": "stream",
     "text": [
      "Epoch 44/50: 100%|██████████| 1129/1129 [00:09<00:00, 119.29it/s, BatchLoss=2.0207]\n"
     ]
    },
    {
     "name": "stdout",
     "output_type": "stream",
     "text": [
      "✅ Model saved. New best loss: 1.924248\n",
      "Epoch 44, Avg Loss: 1.924248\n"
     ]
    },
    {
     "name": "stderr",
     "output_type": "stream",
     "text": [
      "Epoch 45/50: 100%|██████████| 1129/1129 [00:09<00:00, 118.45it/s, BatchLoss=1.9798]\n"
     ]
    },
    {
     "name": "stdout",
     "output_type": "stream",
     "text": [
      "✅ Model saved. New best loss: 1.923905\n",
      "Epoch 45, Avg Loss: 1.923905\n"
     ]
    },
    {
     "name": "stderr",
     "output_type": "stream",
     "text": [
      "Epoch 46/50: 100%|██████████| 1129/1129 [00:10<00:00, 108.05it/s, BatchLoss=1.9441]\n"
     ]
    },
    {
     "name": "stdout",
     "output_type": "stream",
     "text": [
      "Epoch 46, Avg Loss: 1.924318\n"
     ]
    },
    {
     "name": "stderr",
     "output_type": "stream",
     "text": [
      "Epoch 47/50: 100%|██████████| 1129/1129 [00:08<00:00, 127.30it/s, BatchLoss=1.9278]\n"
     ]
    },
    {
     "name": "stdout",
     "output_type": "stream",
     "text": [
      "Epoch 47, Avg Loss: 1.924769\n"
     ]
    },
    {
     "name": "stderr",
     "output_type": "stream",
     "text": [
      "Epoch 48/50: 100%|██████████| 1129/1129 [00:10<00:00, 109.56it/s, BatchLoss=1.8895]\n"
     ]
    },
    {
     "name": "stdout",
     "output_type": "stream",
     "text": [
      "Epoch 48, Avg Loss: 1.924532\n"
     ]
    },
    {
     "name": "stderr",
     "output_type": "stream",
     "text": [
      "Epoch 49/50: 100%|██████████| 1129/1129 [00:08<00:00, 133.13it/s, BatchLoss=2.0009]\n"
     ]
    },
    {
     "name": "stdout",
     "output_type": "stream",
     "text": [
      "Epoch 49, Avg Loss: 1.925926\n"
     ]
    },
    {
     "name": "stderr",
     "output_type": "stream",
     "text": [
      "Epoch 50/50: 100%|██████████| 1129/1129 [00:09<00:00, 122.35it/s, BatchLoss=1.9253]"
     ]
    },
    {
     "name": "stdout",
     "output_type": "stream",
     "text": [
      "Epoch 50, Avg Loss: 1.926072\n"
     ]
    },
    {
     "name": "stderr",
     "output_type": "stream",
     "text": [
      "\n"
     ]
    }
   ],
   "source": [
    "# 这段代码实现了LSTM模型的训练过程，主要功能包括：\n",
    "# 1. 数据准备：将数据转换为PyTorch张量并创建数据加载器\n",
    "# 2. 训练循环：使用Adam优化器进行模型训练\n",
    "# 3. 模型保存：保存训练过程中损失最低的模型\n",
    "# 4. 进度显示：使用tqdm显示训练进度和损失值\n",
    "\n",
    "# 设置设备（GPU/CPU）\n",
    "device = torch.device(\"cuda\" if torch.cuda.is_available() else \"cpu\")  # 检查是否有GPU可用，如果有则使用GPU，否则使用CPU\n",
    "model = model.to(device)  # 将模型移动到指定设备上\n",
    "\n",
    "# 将数据转换为PyTorch张量并创建数据加载器\n",
    "X_tensor = torch.tensor(X, dtype=torch.long)  # 将输入数据转换为PyTorch长整型张量\n",
    "y_tensor = torch.tensor(y, dtype=torch.long)  # 将标签数据转换为PyTorch长整型张量\n",
    "dataset = TensorDataset(X_tensor, y_tensor)  # 创建数据集对象\n",
    "dataloader = DataLoader(dataset, batch_size=512, shuffle=True)  # 创建数据加载器，设置批量大小为512，并随机打乱数据\n",
    "\n",
    "# 定义损失函数和优化器\n",
    "criterion = nn.CrossEntropyLoss()  # 使用交叉熵损失函数，适用于多分类问题\n",
    "optimizer = optim.Adam(model.parameters(), lr=0.005)  # 使用Adam优化器，设置学习率为0.005\n",
    "\n",
    "# 初始化训练相关变量\n",
    "best_loss = float('inf')  # 初始化最佳损失值为无穷大\n",
    "save_path = 'best_name_model.pt'  # 设置模型保存路径\n",
    "epoch_losses = []  # 创建列表用于记录每个epoch的平均损失\n",
    "\n",
    "# 开始训练循环\n",
    "num_epochs = 50  # 设置训练轮数为50\n",
    "for epoch in range(1, num_epochs + 1):\n",
    "    model.train()  # 将模型设置为训练模式\n",
    "    epoch_loss = 0  # 初始化当前epoch的总损失\n",
    "    total_samples = 0  # 初始化当前epoch的总样本数\n",
    "    pbar = tqdm(dataloader, desc=f\"Epoch {epoch}/{num_epochs}\")  # 创建进度条，显示当前训练进度\n",
    "    \n",
    "    # 遍历每个批次\n",
    "    for batch_x, batch_y in pbar:\n",
    "        # 将数据移到指定设备\n",
    "        batch_x, batch_y = batch_x.to(device), batch_y.to(device)  # 将批次数据移动到指定设备（GPU/CPU）\n",
    "        optimizer.zero_grad()  # 清空之前的梯度\n",
    "        outputs = model(batch_x)  # 前向传播，获取模型预测结果\n",
    "        loss = criterion(outputs, batch_y)  # 计算损失值\n",
    "        loss.backward()  # 反向传播，计算梯度\n",
    "        optimizer.step()  # 更新模型参数\n",
    "        \n",
    "        # 累计损失和样本数\n",
    "        batch_size = batch_x.size(0)  # 获取当前批次的大小\n",
    "        epoch_loss += loss.item() * batch_size  # 累加批次损失\n",
    "        total_samples += batch_size  # 累加样本数\n",
    "        pbar.set_postfix({\"BatchLoss\": f\"{loss.item():.4f}\"})  # 在进度条中显示当前批次的损失值\n",
    "    \n",
    "    # 计算并记录平均损失\n",
    "    avg_loss = epoch_loss / total_samples  # 计算当前epoch的平均损失\n",
    "    epoch_losses.append(avg_loss)  # 将平均损失添加到记录列表中\n",
    "\n",
    "    # 如果当前epoch的损失更低，保存模型\n",
    "    if avg_loss < best_loss:\n",
    "        best_loss = avg_loss  # 更新最佳损失值\n",
    "        torch.save(model.state_dict(), save_path)  # 保存模型参数\n",
    "        print(f\"✅ Model saved. New best loss: {best_loss:.6f}\")  # 打印保存信息\n",
    "\n",
    "    print(f\"Epoch {epoch}, Avg Loss: {avg_loss:.6f}\")  # 打印当前epoch的平均损失"
   ]
  },
  {
   "cell_type": "markdown",
   "id": "487b418f",
   "metadata": {},
   "source": [
    "🔍 当前瓶颈可能来自以下几方面：\n",
    "```\n",
    "1. 模型容量不足（常见）\n",
    "当前模型参数较少：embedding_dim = 32，hidden_dim = 128\n",
    "2. 模型结构过于简单\n",
    "单层 LSTM，非双向，没有 dropout 或 residual\n",
    "\n",
    "每次预测只使用最后一层的隐藏状态（h_n）\n",
    "3. 输入未加权（不考虑频率）\n",
    "当前所有名字视为等权，未利用 Count 列作为训练样本权重或数据增强\n",
    "```\n",
    "\n",
    "对大数据量的名字来说表达能力有限\n",
    "✅ 建议你下一步尝试的调整组合：\n",
    "```python\n",
    "embedding_dim = 128\n",
    "hidden_dim = 256\n",
    "num_layers = 2\n",
    "bidirectional = True\n",
    "Dropout = 0.3\n",
    "```"
   ]
  },
  {
   "cell_type": "markdown",
   "id": "4bd6b041",
   "metadata": {},
   "source": [
    "## 📉 6. 绘制训练过程 Loss 曲线"
   ]
  },
  {
   "cell_type": "code",
   "execution_count": 14,
   "id": "12db71a6",
   "metadata": {},
   "outputs": [
    {
     "data": {
      "image/png": "[encoded data removed]",
      "text/plain": [
       "<Figure size 640x480 with 1 Axes>"
      ]
     },
     "metadata": {},
     "output_type": "display_data"
    }
   ],
   "source": [
    "# 这段代码用于可视化模型训练过程中的损失变化\n",
    "# 通过绘制损失曲线，我们可以：\n",
    "# 1. 观察模型是否正常收敛\n",
    "# 2. 判断是否需要调整学习率或训练轮数\n",
    "# 3. 评估模型的训练效果\n",
    "\n",
    "# 绘制训练损失曲线\n",
    "plt.plot(range(1, num_epochs + 1), epoch_losses, marker='o')  # 使用圆点标记每个数据点\n",
    "plt.title('Training Loss Over Epochs')  # 设置图表标题\n",
    "plt.xlabel('Epoch')  # 设置x轴标签\n",
    "plt.ylabel('Avg Loss per Sample')  # 设置y轴标签\n",
    "plt.grid(True)  # 显示网格线，便于读取数值\n",
    "plt.show()  # 显示图表"
   ]
  },
  {
   "cell_type": "markdown",
   "id": "54d79750",
   "metadata": {},
   "source": [
    "## 🔮 7. 姓名补全预测函数 + 测试"
   ]
  },
  {
   "cell_type": "code",
   "execution_count": 15,
   "id": "8a854b58",
   "metadata": {},
   "outputs": [
    {
     "name": "stdout",
     "output_type": "stream",
     "text": [
      "j ➜ janay\n",
      "a ➜ alatan\n",
      "mi ➜ millian\n",
      "li ➜ lillian\n",
      "el ➜ elizabe\n",
      "ch ➜ charle\n"
     ]
    }
   ],
   "source": [
    "# 这段代码实现了一个基于LSTM模型的姓名补全功能\n",
    "# 主要功能：\n",
    "# 1. 接收用户输入的名字前缀\n",
    "# 2. 使用训练好的LSTM模型预测后续字符\n",
    "# 3. 当遇到特定结束字符或达到最大长度时停止生成\n",
    "# 4. 返回完整的生成名字\n",
    "\n",
    "def predict_name(prefix, max_len=20):\n",
    "    model.eval()  # 将模型设置为评估模式\n",
    "    prefix = prefix.lower()  # 将输入前缀转换为小写\n",
    "    generated = prefix  # 初始化生成的名字\n",
    "    # 将输入前缀中的每个字符转换为对应的索引\n",
    "    input_seq = [char_to_idx.get(ch, 0) for ch in prefix]\n",
    "\n",
    "    # 循环生成后续字符，直到达到最大长度\n",
    "    for _ in range(max_len - len(prefix)):\n",
    "        # 创建输入张量，初始化为全0\n",
    "        x = torch.zeros((1, max_seq_len), dtype=torch.long).to(device)\n",
    "        # 将输入序列填充到张量中，从右侧开始填充\n",
    "        x[0, -len(input_seq):] = torch.tensor(input_seq[-max_seq_len:], dtype=torch.long).to(device)\n",
    "\n",
    "        # 使用模型进行预测\n",
    "        with torch.no_grad():  # 不计算梯度\n",
    "            output = model(x)  # 获取模型输出\n",
    "            probs = torch.softmax(output, dim=1).squeeze()  # 将输出转换为概率分布\n",
    "            next_char_idx = torch.argmax(probs).item()  # 选择概率最高的字符索引\n",
    "\n",
    "        # 将预测的字符添加到生成的名字中\n",
    "        next_char = idx_to_char[next_char_idx]\n",
    "        generated += next_char\n",
    "        input_seq.append(next_char_idx)\n",
    "\n",
    "        # 如果遇到特定结束字符且名字长度大于4，则停止生成\n",
    "        if next_char in ['n', 'y', 'e'] and len(generated) > 4:\n",
    "            break\n",
    "    return generated\n",
    "\n",
    "# 测试不同前缀的补全效果\n",
    "test_prefixes = ['j', 'a', 'mi', 'li', 'el', 'ch']\n",
    "for prefix in test_prefixes:\n",
    "    print(f\"{prefix} ➜ {predict_name(prefix)}\")"
   ]
  }
 ],
 "metadata": {
  "kernelspec": {
   "display_name": "Python 3",
   "language": "python",
   "name": "python3"
  },
  "language_info": {
   "codemirror_mode": {
    "name": "ipython",
    "version": 3
   },
   "file_extension": ".py",
   "mimetype": "text/x-python",
   "name": "python",
   "nbconvert_exporter": "python",
   "pygments_lexer": "ipython3",
   "version": "3.11.9"
  }
 },
 "nbformat": 4,
 "nbformat_minor": 5
}
